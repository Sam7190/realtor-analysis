{
 "cells": [
  {
   "cell_type": "markdown",
   "id": "29661478",
   "metadata": {},
   "source": [
    "## Import Libraries"
   ]
  },
  {
   "cell_type": "code",
   "execution_count": 18,
   "id": "d72cc0c5",
   "metadata": {},
   "outputs": [
    {
     "data": {
      "text/plain": [
       "<module 'vars' from 'c:\\\\GitHub\\\\realtor-analysis\\\\vars.py'>"
      ]
     },
     "execution_count": 18,
     "metadata": {},
     "output_type": "execute_result"
    }
   ],
   "source": [
    "import importlib, sys\n",
    "\n",
    "import vars\n",
    "importlib.reload(vars)"
   ]
  },
  {
   "cell_type": "code",
   "execution_count": null,
   "id": "46e10799",
   "metadata": {},
   "outputs": [],
   "source": [
    "import pandas as pd\n",
    "import numpy as np"
   ]
  },
  {
   "cell_type": "markdown",
   "id": "3d44583d",
   "metadata": {},
   "source": [
    "## Load and View Data"
   ]
  },
  {
   "cell_type": "code",
   "execution_count": 7,
   "id": "3cec817c",
   "metadata": {},
   "outputs": [
    {
     "name": "stdout",
     "output_type": "stream",
     "text": [
      "Read 3085041 records under Supply Dataset\n",
      "columns:\n",
      "Index(['month_date_yyyymm', 'postal_code', 'zip_name', 'median_listing_price',\n",
      "       'median_listing_price_mm', 'median_listing_price_yy',\n",
      "       'active_listing_count', 'active_listing_count_mm',\n",
      "       'active_listing_count_yy', 'median_days_on_market',\n",
      "       'median_days_on_market_mm', 'median_days_on_market_yy',\n",
      "       'new_listing_count', 'new_listing_count_mm', 'new_listing_count_yy',\n",
      "       'price_increased_count', 'price_increased_count_mm',\n",
      "       'price_increased_count_yy', 'price_increased_share',\n",
      "       'price_increased_share_mm', 'price_increased_share_yy',\n",
      "       'price_reduced_count', 'price_reduced_count_mm',\n",
      "       'price_reduced_count_yy', 'price_reduced_share',\n",
      "       'price_reduced_share_mm', 'price_reduced_share_yy',\n",
      "       'pending_listing_count', 'pending_listing_count_mm',\n",
      "       'pending_listing_count_yy', 'median_listing_price_per_square_foot',\n",
      "       'median_listing_price_per_square_foot_mm',\n",
      "       'median_listing_price_per_square_foot_yy', 'median_square_feet',\n",
      "       'median_square_feet_mm', 'median_square_feet_yy',\n",
      "       'average_listing_price', 'average_listing_price_mm',\n",
      "       'average_listing_price_yy', 'total_listing_count',\n",
      "       'total_listing_count_mm', 'total_listing_count_yy', 'pending_ratio',\n",
      "       'pending_ratio_mm', 'pending_ratio_yy', 'quality_flag'],\n",
      "      dtype='object')\n",
      "Read 1195998 records under Demand Dataset\n",
      "columns:\n",
      "Index(['month_date_yyyymm', 'postal_code', 'zip_name', 'hh_rank',\n",
      "       'hotness_rank', 'hotness_rank_mm', 'hotness_rank_yy', 'hotness_score',\n",
      "       'supply_score', 'demand_score', 'median_days_on_market',\n",
      "       'median_days_on_market_mm', 'median_dom_mm_day',\n",
      "       'median_days_on_market_yy', 'median_dom_yy_day', 'median_dom_vs_us',\n",
      "       'page_view_count_per_property_mm', 'page_view_count_per_property_yy',\n",
      "       'page_view_count_per_property_vs_us', 'median_listing_price',\n",
      "       'median_listing_price_mm', 'median_listing_price_yy',\n",
      "       'median_listing_price_vs_us', 'quality_flag'],\n",
      "      dtype='object')\n"
     ]
    }
   ],
   "source": [
    "supply = pd.read_csv(vars.supply_data_path)\n",
    "print(f\"Read {len(supply)} records under Supply Dataset\")\n",
    "print('columns:')\n",
    "print(supply.columns)\n",
    "\n",
    "demand = pd.read_csv(vars.demand_data_path)\n",
    "print(f\"Read {len(demand)} records under Demand Dataset\")\n",
    "print('columns:')\n",
    "print(demand.columns)"
   ]
  },
  {
   "cell_type": "code",
   "execution_count": 8,
   "id": "a55739a8",
   "metadata": {},
   "outputs": [
    {
     "data": {
      "text/html": [
       "<div>\n",
       "<style scoped>\n",
       "    .dataframe tbody tr th:only-of-type {\n",
       "        vertical-align: middle;\n",
       "    }\n",
       "\n",
       "    .dataframe tbody tr th {\n",
       "        vertical-align: top;\n",
       "    }\n",
       "\n",
       "    .dataframe thead th {\n",
       "        text-align: right;\n",
       "    }\n",
       "</style>\n",
       "<table border=\"1\" class=\"dataframe\">\n",
       "  <thead>\n",
       "    <tr style=\"text-align: right;\">\n",
       "      <th></th>\n",
       "      <th>postal_code</th>\n",
       "      <th>zip_name</th>\n",
       "    </tr>\n",
       "  </thead>\n",
       "  <tbody>\n",
       "    <tr>\n",
       "      <th>0</th>\n",
       "      <td>56662</td>\n",
       "      <td>outing, mn</td>\n",
       "    </tr>\n",
       "    <tr>\n",
       "      <th>1</th>\n",
       "      <td>24531</td>\n",
       "      <td>chatham, va</td>\n",
       "    </tr>\n",
       "    <tr>\n",
       "      <th>2</th>\n",
       "      <td>26505</td>\n",
       "      <td>morgantown, wv</td>\n",
       "    </tr>\n",
       "    <tr>\n",
       "      <th>3</th>\n",
       "      <td>23838</td>\n",
       "      <td>chesterfield, va</td>\n",
       "    </tr>\n",
       "    <tr>\n",
       "      <th>4</th>\n",
       "      <td>38115</td>\n",
       "      <td>memphis, tn</td>\n",
       "    </tr>\n",
       "    <tr>\n",
       "      <th>...</th>\n",
       "      <td>...</td>\n",
       "      <td>...</td>\n",
       "    </tr>\n",
       "    <tr>\n",
       "      <th>3085036</th>\n",
       "      <td>7826</td>\n",
       "      <td>branchville, nj</td>\n",
       "    </tr>\n",
       "    <tr>\n",
       "      <th>3085037</th>\n",
       "      <td>29307</td>\n",
       "      <td>spartanburg, sc</td>\n",
       "    </tr>\n",
       "    <tr>\n",
       "      <th>3085038</th>\n",
       "      <td>84620</td>\n",
       "      <td>aurora, ut</td>\n",
       "    </tr>\n",
       "    <tr>\n",
       "      <th>3085039</th>\n",
       "      <td>60517</td>\n",
       "      <td>woodridge, il</td>\n",
       "    </tr>\n",
       "    <tr>\n",
       "      <th>3085040</th>\n",
       "      <td>35089</td>\n",
       "      <td>kellyton, al</td>\n",
       "    </tr>\n",
       "  </tbody>\n",
       "</table>\n",
       "<p>3085041 rows × 2 columns</p>\n",
       "</div>"
      ],
      "text/plain": [
       "         postal_code          zip_name\n",
       "0              56662        outing, mn\n",
       "1              24531       chatham, va\n",
       "2              26505    morgantown, wv\n",
       "3              23838  chesterfield, va\n",
       "4              38115       memphis, tn\n",
       "...              ...               ...\n",
       "3085036         7826   branchville, nj\n",
       "3085037        29307   spartanburg, sc\n",
       "3085038        84620        aurora, ut\n",
       "3085039        60517     woodridge, il\n",
       "3085040        35089      kellyton, al\n",
       "\n",
       "[3085041 rows x 2 columns]"
      ]
     },
     "execution_count": 8,
     "metadata": {},
     "output_type": "execute_result"
    }
   ],
   "source": [
    "supply[['postal_code', 'zip_name']]"
   ]
  },
  {
   "cell_type": "code",
   "execution_count": null,
   "id": "49966231",
   "metadata": {},
   "outputs": [
    {
     "name": "stdout",
     "output_type": "stream",
     "text": [
      "         zip  county  res_ratio  bus_ratio  oth_ratio  tot_ratio\n",
      "0        606   72093   1.000000   1.000000   1.000000   1.000000\n",
      "1        617   72017   0.969103   0.998428   1.000000   0.971027\n",
      "2        617   72054   0.030897   0.001572   0.000000   0.028973\n",
      "3        674   72145   0.004759   0.017114   0.022523   0.006106\n",
      "4        674   72091   0.995241   0.982886   0.977477   0.993894\n",
      "...      ...     ...        ...        ...        ...        ...\n",
      "53813  99688    2170   1.000000   1.000000   1.000000   1.000000\n",
      "53814  99705    2090   1.000000   1.000000   1.000000   1.000000\n",
      "53815  99694    2170   0.000000   0.000000   1.000000   1.000000\n",
      "53816  99659    2180   0.000000   1.000000   1.000000   1.000000\n",
      "53817  99680    2050   0.000000   0.000000   1.000000   1.000000\n",
      "\n",
      "[53818 rows x 6 columns]\n",
      "Unique Zips (Supply): 34104\n",
      "Unique Zips (Demand): 18777\n",
      "Unique Zips (Crosswalk): 39461\n",
      "Unique County Codes (Crosswalk): 3227\n",
      "Zips in supply/demand not in crosswalk: 33\n"
     ]
    }
   ],
   "source": [
    "zip2county = pd.read_excel(vars.zip2county)\n",
    "print(zip2county)\n",
    "\n",
    "print(f\"Unique Zips (Supply): {supply['postal_code'].nunique()}\")\n",
    "print(f\"Unique Zips (Demand): {demand['postal_code'].nunique()}\")\n",
    "print(f\"Unique Zips (Crosswalk): {zip2county['zip'].nunique()}\")\n",
    "print(f\"Unique County Codes (Crosswalk): {zip2county['county'].nunique()}\")\n",
    "\n",
    "# Check if there are any zips in supply and demand that are not in the crosswalk\n",
    "supply_zips = set(supply['postal_code'].unique())\n",
    "demand_zips = set(demand['postal_code'].unique())\n",
    "crosswalk_zips = set(zip2county['zip'].unique())\n",
    "missing_in_crosswalk = (supply_zips | demand_zips) - crosswalk_zips\n",
    "if missing_in_crosswalk:\n",
    "    print(f\"Zips in supply/demand not in crosswalk: {len(missing_in_crosswalk)}\")\n",
    "else:\n",
    "    print(\"All zips in supply and demand are covered in the crosswalk.\")\n"
   ]
  },
  {
   "cell_type": "code",
   "execution_count": null,
   "id": "86fc5812",
   "metadata": {},
   "outputs": [],
   "source": []
  }
 ],
 "metadata": {
  "kernelspec": {
   "display_name": "venv",
   "language": "python",
   "name": "python3"
  },
  "language_info": {
   "codemirror_mode": {
    "name": "ipython",
    "version": 3
   },
   "file_extension": ".py",
   "mimetype": "text/x-python",
   "name": "python",
   "nbconvert_exporter": "python",
   "pygments_lexer": "ipython3",
   "version": "3.11.9"
  }
 },
 "nbformat": 4,
 "nbformat_minor": 5
}
